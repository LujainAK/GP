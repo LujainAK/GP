{
  "nbformat": 4,
  "nbformat_minor": 0,
  "metadata": {
    "colab": {
      "provenance": [],
      "authorship_tag": "ABX9TyMmvo0dmGuQfCg+bvjYy5Bo",
      "include_colab_link": true
    },
    "kernelspec": {
      "name": "python3",
      "display_name": "Python 3"
    },
    "language_info": {
      "name": "python"
    }
  },
  "cells": [
    {
      "cell_type": "markdown",
      "metadata": {
        "id": "view-in-github",
        "colab_type": "text"
      },
      "source": [
        "<a href=\"https://colab.research.google.com/github/LujainAK/GP/blob/main/DataAugmentation.ipynb\" target=\"_parent\"><img src=\"https://colab.research.google.com/assets/colab-badge.svg\" alt=\"Open In Colab\"/></a>"
      ]
    },
    {
      "cell_type": "markdown",
      "source": [
        "###**Data Preprocessing Code**"
      ],
      "metadata": {
        "id": "1DzcpgOKA_9P"
      }
    },
    {
      "cell_type": "markdown",
      "source": [
        "###Import Libraries"
      ],
      "metadata": {
        "id": "xlUc4u_s6iUN"
      }
    },
    {
      "cell_type": "code",
      "source": [
        "from google.colab import drive\n",
        "import pandas as pd\n",
        "import os\n",
        "import cv2\n",
        "from keras.preprocessing.image import ImageDataGenerator"
      ],
      "metadata": {
        "id": "Ms8ARGX66gwx"
      },
      "execution_count": 54,
      "outputs": []
    },
    {
      "cell_type": "markdown",
      "source": [
        "###Read the csv file and specify paths"
      ],
      "metadata": {
        "id": "aZGj_XePilcA"
      }
    },
    {
      "cell_type": "code",
      "source": [
        "drive.mount('/content/drive')"
      ],
      "metadata": {
        "colab": {
          "base_uri": "https://localhost:8080/"
        },
        "id": "ZRjXF97ep4Ez",
        "outputId": "edefc066-b282-4eb6-b9e0-e081283c9070"
      },
      "execution_count": 36,
      "outputs": [
        {
          "output_type": "stream",
          "name": "stdout",
          "text": [
            "Drive already mounted at /content/drive; to attempt to forcibly remount, call drive.mount(\"/content/drive\", force_remount=True).\n"
          ]
        }
      ]
    },
    {
      "cell_type": "markdown",
      "source": [
        "###Data Augmentation"
      ],
      "metadata": {
        "id": "sDGjuioWzcGK"
      }
    },
    {
      "cell_type": "code",
      "source": [
        "ODIR_path = '/content/drive/MyDrive/Colab Notebooks/ODIR Dataset'\n",
        "filtered_csv = '/content/drive/MyDrive/Colab Notebooks/ODIR Dataset/filtered.csv'\n",
        "filtered_df = df = pd.read_csv(filtered_csv)"
      ],
      "metadata": {
        "id": "A8LZvcb05vf2"
      },
      "execution_count": 37,
      "outputs": []
    },
    {
      "cell_type": "code",
      "source": [
        "# Check the balance of the classes\n",
        "class_counts = filtered_df['class_name'].value_counts()\n",
        "print(class_counts)"
      ],
      "metadata": {
        "colab": {
          "base_uri": "https://localhost:8080/"
        },
        "id": "27gciH9czTOq",
        "outputId": "b27d0429-0dd6-4c2f-819e-e1e8856e186b"
      },
      "execution_count": 38,
      "outputs": [
        {
          "output_type": "stream",
          "name": "stdout",
          "text": [
            "Normal                              2873\n",
            "Diabetes                            1608\n",
            "Cataract                             293\n",
            "Glaucoma                             284\n",
            "Age related Macular Degeneration     266\n",
            "Name: class_name, dtype: int64\n"
          ]
        }
      ]
    },
    {
      "cell_type": "code",
      "source": [
        "classes = { 0: \"Normal\",\n",
        "            1: \"Diabetes\",\n",
        "            2: \"Glaucoma\",\n",
        "            3: \"Cataract\",\n",
        "            4: \"Age related Macular Degeneration\"\n",
        "          }"
      ],
      "metadata": {
        "id": "lmv_IUa96tJ5"
      },
      "execution_count": 39,
      "outputs": []
    },
    {
      "cell_type": "code",
      "source": [
        "# Create folders for the augmented images in training and testing\n",
        "augmented_training = os.path.join(ODIR_path, 'augmented_training')\n",
        "augmented_testing = os.path.join(ODIR_path, 'augmented_testing')\n",
        "os.makedirs(augmented_training, exist_ok=True)\n",
        "os.makedirs(augmented_testing, exist_ok=True)\n",
        "\n",
        "for cls in classes.values():\n",
        "  disease_augmented_training = os.path.join(augmented_training, (cls + '_augmented_training'))\n",
        "  disease_augmented_testing = os.path.join(augmented_testing, (cls + '_augmented_testing'))\n",
        "  os.makedirs(disease_augmented_training, exist_ok=True)\n",
        "  os.makedirs(disease_augmented_testing, exist_ok=True)\n",
        "\n",
        "print(\"Folders for the augmented images in augmented training and augmented testing folders have been created.\")\n"
      ],
      "metadata": {
        "colab": {
          "base_uri": "https://localhost:8080/"
        },
        "id": "-FWDlO7RgUzj",
        "outputId": "1d9573fa-e99a-4727-b1a9-2e49578b9ac6"
      },
      "execution_count": 40,
      "outputs": [
        {
          "output_type": "stream",
          "name": "stdout",
          "text": [
            "Folders for the augmented images in augmented training and augmented testing folders have been created.\n"
          ]
        }
      ]
    },
    {
      "cell_type": "code",
      "source": [
        "# Find the class with maximum number of images\n",
        "training_folder = '/content/drive/MyDrive/Colab Notebooks/ODIR Dataset/training'\n",
        "testing_folder = '/content/drive/MyDrive/Colab Notebooks/ODIR Dataset/testing'\n",
        "max_class = class_counts.idxmax()\n",
        "max_class_training = os.path.join(training_folder, (max_class + '_training'))\n",
        "max_class_testing = os.path.join(testing_folder, (max_class + '_testing'))"
      ],
      "metadata": {
        "id": "b7Kgl1ucgG4B"
      },
      "execution_count": 41,
      "outputs": []
    },
    {
      "cell_type": "code",
      "source": [
        "# Specify the parameters of data augmentation\n",
        "datagen = ImageDataGenerator(rotation_range=20, width_shift_range=0.1, height_shift_range=0.1, shear_range=0.2, zoom_range=0.2)"
      ],
      "metadata": {
        "id": "WvsVLmGogJlx"
      },
      "execution_count": 42,
      "outputs": []
    },
    {
      "cell_type": "code",
      "source": [
        "# Get the size of the original images\n",
        "sample_image_path = os.path.join(max_class_training, os.listdir(max_class_training)[0])\n",
        "sample_image = cv2.imread(sample_image_path)\n",
        "original_size = sample_image.shape[:2]  # Retrieve the height and width of the image"
      ],
      "metadata": {
        "id": "I4aYYJGCgLpQ"
      },
      "execution_count": 43,
      "outputs": []
    },
    {
      "cell_type": "code",
      "source": [
        "for cls in classes.values():\n",
        "  # Augmentation in training\n",
        "  disease_training = os.path.join(training_folder, (cls + '_training'))\n",
        "  disease_augmented_training = os.path.join(augmented_training, (cls + '_augmented_training'))\n",
        "  training_difference = len(os.listdir(max_class_training)) - len(os.listdir(disease_training))\n",
        "  if training_difference > 0 and len(os.listdir(disease_augmented_training)) < training_difference:\n",
        "    training_augmented_images = datagen.flow_from_directory(\n",
        "            training_folder,\n",
        "            target_size= original_size,\n",
        "            batch_size = 1,\n",
        "            classes = [(cls+'_training')],\n",
        "            class_mode = None,\n",
        "            save_to_dir = disease_augmented_training,\n",
        "            save_prefix = ('augmented_' + cls + '_'),\n",
        "            save_format = 'jpg',\n",
        "            shuffle = False\n",
        "            )\n",
        "    for _ in range(training_difference):\n",
        "      training_augmented_images.next()\n",
        "\n",
        "print(\"Augmented images for training have been created.\")"
      ],
      "metadata": {
        "colab": {
          "base_uri": "https://localhost:8080/"
        },
        "id": "R0JLd79Diquo",
        "outputId": "ab0044dc-8db2-4fb1-ef93-326409a9ad37"
      },
      "execution_count": 44,
      "outputs": [
        {
          "output_type": "stream",
          "name": "stdout",
          "text": [
            "Augmented images for training have been created.\n"
          ]
        }
      ]
    },
    {
      "cell_type": "code",
      "source": [
        "# Check the number of the augmented images for each class in training\n",
        "for i in os.listdir(augmented_training):\n",
        "  itrain = os.path.join(augmented_training, i)\n",
        "  print(i + \" = \", len(os.listdir(itrain)))"
      ],
      "metadata": {
        "colab": {
          "base_uri": "https://localhost:8080/"
        },
        "id": "xlOr-SOL-U5n",
        "outputId": "4a680691-7457-4237-b3b7-3821e4116cfa"
      },
      "execution_count": 45,
      "outputs": [
        {
          "output_type": "stream",
          "name": "stdout",
          "text": [
            "Normal_augmented_training =  0\n",
            "Diabetes_augmented_training =  886\n",
            "Glaucoma_augmented_training =  1813\n",
            "Cataract_augmented_training =  1806\n",
            "Age related Macular Degeneration_augmented_training =  1825\n"
          ]
        }
      ]
    },
    {
      "cell_type": "code",
      "source": [
        "for cls in classes.values():\n",
        "  #Augmentation in testing\n",
        "  disease_testing = os.path.join(testing_folder, (cls + '_testing'))\n",
        "  disease_augmented_testing = os.path.join(augmented_testing, (cls + '_augmented_testing'))\n",
        "  testing_difference = len(os.listdir(max_class_testing)) - len(os.listdir(disease_testing))\n",
        "  if testing_difference > 0 and len(os.listdir(disease_augmented_testing)) < testing_difference:\n",
        "    testing_augmented_images = datagen.flow_from_directory(\n",
        "            testing_folder,\n",
        "            target_size = original_size,\n",
        "            batch_size = 1,\n",
        "            classes = [(cls+'_testing')],\n",
        "            class_mode = None,\n",
        "            save_to_dir = disease_augmented_testing,\n",
        "            save_prefix = 'augmented_' + cls + '_',\n",
        "            save_format ='jpg',\n",
        "            shuffle = False\n",
        "            )\n",
        "    # Generate the specified number of augmented images\n",
        "    for _ in range(testing_difference):\n",
        "      testing_augmented_images.next()\n",
        "\n",
        "print(\"Augmented images for testing have been created.\")"
      ],
      "metadata": {
        "id": "YahSaTx-gPcQ",
        "colab": {
          "base_uri": "https://localhost:8080/"
        },
        "outputId": "0f302ec1-b4e9-4614-9b2d-133d0f7b5bf7"
      },
      "execution_count": 46,
      "outputs": [
        {
          "output_type": "stream",
          "name": "stdout",
          "text": [
            "Augmented images for testing have been created.\n"
          ]
        }
      ]
    },
    {
      "cell_type": "code",
      "source": [
        "# Check the number of the augmented images for each class in testing\n",
        "for i in os.listdir(augmented_testing):\n",
        "  itest = os.path.join(augmented_testing, i)\n",
        "  print(i + \" = \", len(os.listdir(itest)))"
      ],
      "metadata": {
        "colab": {
          "base_uri": "https://localhost:8080/"
        },
        "id": "Tznn5FLAGgIp",
        "outputId": "02c7bcca-5aa2-4a1b-e06c-4705749a6c7a"
      },
      "execution_count": 47,
      "outputs": [
        {
          "output_type": "stream",
          "name": "stdout",
          "text": [
            "Normal_augmented_testing =  0\n",
            "Glaucoma_augmented_testing =  776\n",
            "Cataract_augmented_testing =  774\n",
            "Age related Macular Degeneration_augmented_testing =  782\n",
            "Diabetes_augmented_testing =  379\n"
          ]
        }
      ]
    },
    {
      "cell_type": "markdown",
      "source": [
        "###Create a CSV file for the augmented images in training and testing"
      ],
      "metadata": {
        "id": "-u7L6krWJ3J2"
      }
    },
    {
      "cell_type": "code",
      "source": [
        "augmented_data = []\n",
        "\n",
        "id_counter = 0\n",
        "# Iterate over the folders in the main folder\n",
        "for cls in classes.values():\n",
        "  disease_augmented_training = os.path.join(augmented_training, (cls + '_augmented_training'))\n",
        "  disease_augmented_testing = os.path.join(augmented_testing, (cls + '_augmented_testing'))\n",
        "\n",
        "  # Add the augmented training images\n",
        "  if os.path.isdir(disease_augmented_training):\n",
        "    # Iterate over the images in each class folder\n",
        "    for image_file in os.listdir(disease_augmented_training):\n",
        "      # Create the target list based on the class_name\n",
        "      target = [1 if i == cls else 0 for i in classes.values()]\n",
        "\n",
        "      # Append the image data to the list\n",
        "      augmented_data.append([id_counter, image_file, cls, target])\n",
        "\n",
        "      # Increment the ID counter\n",
        "      id_counter += 1\n",
        "\n",
        "  # Add the augmented testing images\n",
        "  if os.path.isdir(disease_augmented_testing):\n",
        "    # Iterate over the images in each class folder\n",
        "    for image_file in os.listdir(disease_augmented_testing):\n",
        "      # Create the target list based on the class_name\n",
        "      target = [1 if i == cls else 0 for i in classes.values()]\n",
        "\n",
        "      # Append the image data to the list\n",
        "      augmented_data.append([id_counter, image_file, cls, target])\n",
        "\n",
        "      # Increment the ID counter\n",
        "      id_counter += 1\n",
        "\n",
        "# Creating a dataframe for the augmented images data\n",
        "augmented_df = pd.DataFrame(augmented_data, columns=[\"ID\", \"filename\", \"class_name\", \"target\"])\n",
        "\n",
        "# Path to the CSV file to be created\n",
        "augmented_csv_path = os.path.join(ODIR_path, 'augmented.csv')\n",
        "\n",
        "augmented_df.to_csv(augmented_csv_path, index=False)\n",
        "\n",
        "print(\"CSV file for the augmented images has been created.\")"
      ],
      "metadata": {
        "id": "L-YpDxSmz8Uc",
        "colab": {
          "base_uri": "https://localhost:8080/"
        },
        "outputId": "4a13e8ac-b031-4b32-af96-a3333af5349f"
      },
      "execution_count": 48,
      "outputs": [
        {
          "output_type": "stream",
          "name": "stdout",
          "text": [
            "CSV file for the augmented images has been created.\n"
          ]
        }
      ]
    },
    {
      "cell_type": "code",
      "source": [
        "augmented_df.head()"
      ],
      "metadata": {
        "colab": {
          "base_uri": "https://localhost:8080/",
          "height": 206
        },
        "id": "o-VbWi2fPb85",
        "outputId": "2aa5ff2b-1317-4ebe-f82a-bafd3e4027bf"
      },
      "execution_count": 49,
      "outputs": [
        {
          "output_type": "execute_result",
          "data": {
            "text/plain": [
              "   ID                           filename class_name           target\n",
              "0   0  augmented_Diabetes__0_4126838.jpg   Diabetes  [0, 1, 0, 0, 0]\n",
              "1   1  augmented_Diabetes__1_5142113.jpg   Diabetes  [0, 1, 0, 0, 0]\n",
              "2   2  augmented_Diabetes__2_5013863.jpg   Diabetes  [0, 1, 0, 0, 0]\n",
              "3   3  augmented_Diabetes__3_2848479.jpg   Diabetes  [0, 1, 0, 0, 0]\n",
              "4   4  augmented_Diabetes__4_1365883.jpg   Diabetes  [0, 1, 0, 0, 0]"
            ],
            "text/html": [
              "\n",
              "  <div id=\"df-49cf39ac-7663-47db-8861-845a4e9c57fe\" class=\"colab-df-container\">\n",
              "    <div>\n",
              "<style scoped>\n",
              "    .dataframe tbody tr th:only-of-type {\n",
              "        vertical-align: middle;\n",
              "    }\n",
              "\n",
              "    .dataframe tbody tr th {\n",
              "        vertical-align: top;\n",
              "    }\n",
              "\n",
              "    .dataframe thead th {\n",
              "        text-align: right;\n",
              "    }\n",
              "</style>\n",
              "<table border=\"1\" class=\"dataframe\">\n",
              "  <thead>\n",
              "    <tr style=\"text-align: right;\">\n",
              "      <th></th>\n",
              "      <th>ID</th>\n",
              "      <th>filename</th>\n",
              "      <th>class_name</th>\n",
              "      <th>target</th>\n",
              "    </tr>\n",
              "  </thead>\n",
              "  <tbody>\n",
              "    <tr>\n",
              "      <th>0</th>\n",
              "      <td>0</td>\n",
              "      <td>augmented_Diabetes__0_4126838.jpg</td>\n",
              "      <td>Diabetes</td>\n",
              "      <td>[0, 1, 0, 0, 0]</td>\n",
              "    </tr>\n",
              "    <tr>\n",
              "      <th>1</th>\n",
              "      <td>1</td>\n",
              "      <td>augmented_Diabetes__1_5142113.jpg</td>\n",
              "      <td>Diabetes</td>\n",
              "      <td>[0, 1, 0, 0, 0]</td>\n",
              "    </tr>\n",
              "    <tr>\n",
              "      <th>2</th>\n",
              "      <td>2</td>\n",
              "      <td>augmented_Diabetes__2_5013863.jpg</td>\n",
              "      <td>Diabetes</td>\n",
              "      <td>[0, 1, 0, 0, 0]</td>\n",
              "    </tr>\n",
              "    <tr>\n",
              "      <th>3</th>\n",
              "      <td>3</td>\n",
              "      <td>augmented_Diabetes__3_2848479.jpg</td>\n",
              "      <td>Diabetes</td>\n",
              "      <td>[0, 1, 0, 0, 0]</td>\n",
              "    </tr>\n",
              "    <tr>\n",
              "      <th>4</th>\n",
              "      <td>4</td>\n",
              "      <td>augmented_Diabetes__4_1365883.jpg</td>\n",
              "      <td>Diabetes</td>\n",
              "      <td>[0, 1, 0, 0, 0]</td>\n",
              "    </tr>\n",
              "  </tbody>\n",
              "</table>\n",
              "</div>\n",
              "    <div class=\"colab-df-buttons\">\n",
              "\n",
              "  <div class=\"colab-df-container\">\n",
              "    <button class=\"colab-df-convert\" onclick=\"convertToInteractive('df-49cf39ac-7663-47db-8861-845a4e9c57fe')\"\n",
              "            title=\"Convert this dataframe to an interactive table.\"\n",
              "            style=\"display:none;\">\n",
              "\n",
              "  <svg xmlns=\"http://www.w3.org/2000/svg\" height=\"24px\" viewBox=\"0 -960 960 960\">\n",
              "    <path d=\"M120-120v-720h720v720H120Zm60-500h600v-160H180v160Zm220 220h160v-160H400v160Zm0 220h160v-160H400v160ZM180-400h160v-160H180v160Zm440 0h160v-160H620v160ZM180-180h160v-160H180v160Zm440 0h160v-160H620v160Z\"/>\n",
              "  </svg>\n",
              "    </button>\n",
              "\n",
              "  <style>\n",
              "    .colab-df-container {\n",
              "      display:flex;\n",
              "      gap: 12px;\n",
              "    }\n",
              "\n",
              "    .colab-df-convert {\n",
              "      background-color: #E8F0FE;\n",
              "      border: none;\n",
              "      border-radius: 50%;\n",
              "      cursor: pointer;\n",
              "      display: none;\n",
              "      fill: #1967D2;\n",
              "      height: 32px;\n",
              "      padding: 0 0 0 0;\n",
              "      width: 32px;\n",
              "    }\n",
              "\n",
              "    .colab-df-convert:hover {\n",
              "      background-color: #E2EBFA;\n",
              "      box-shadow: 0px 1px 2px rgba(60, 64, 67, 0.3), 0px 1px 3px 1px rgba(60, 64, 67, 0.15);\n",
              "      fill: #174EA6;\n",
              "    }\n",
              "\n",
              "    .colab-df-buttons div {\n",
              "      margin-bottom: 4px;\n",
              "    }\n",
              "\n",
              "    [theme=dark] .colab-df-convert {\n",
              "      background-color: #3B4455;\n",
              "      fill: #D2E3FC;\n",
              "    }\n",
              "\n",
              "    [theme=dark] .colab-df-convert:hover {\n",
              "      background-color: #434B5C;\n",
              "      box-shadow: 0px 1px 3px 1px rgba(0, 0, 0, 0.15);\n",
              "      filter: drop-shadow(0px 1px 2px rgba(0, 0, 0, 0.3));\n",
              "      fill: #FFFFFF;\n",
              "    }\n",
              "  </style>\n",
              "\n",
              "    <script>\n",
              "      const buttonEl =\n",
              "        document.querySelector('#df-49cf39ac-7663-47db-8861-845a4e9c57fe button.colab-df-convert');\n",
              "      buttonEl.style.display =\n",
              "        google.colab.kernel.accessAllowed ? 'block' : 'none';\n",
              "\n",
              "      async function convertToInteractive(key) {\n",
              "        const element = document.querySelector('#df-49cf39ac-7663-47db-8861-845a4e9c57fe');\n",
              "        const dataTable =\n",
              "          await google.colab.kernel.invokeFunction('convertToInteractive',\n",
              "                                                    [key], {});\n",
              "        if (!dataTable) return;\n",
              "\n",
              "        const docLinkHtml = 'Like what you see? Visit the ' +\n",
              "          '<a target=\"_blank\" href=https://colab.research.google.com/notebooks/data_table.ipynb>data table notebook</a>'\n",
              "          + ' to learn more about interactive tables.';\n",
              "        element.innerHTML = '';\n",
              "        dataTable['output_type'] = 'display_data';\n",
              "        await google.colab.output.renderOutput(dataTable, element);\n",
              "        const docLink = document.createElement('div');\n",
              "        docLink.innerHTML = docLinkHtml;\n",
              "        element.appendChild(docLink);\n",
              "      }\n",
              "    </script>\n",
              "  </div>\n",
              "\n",
              "\n",
              "<div id=\"df-a64dae1d-328f-4b14-88af-034d7270d662\">\n",
              "  <button class=\"colab-df-quickchart\" onclick=\"quickchart('df-a64dae1d-328f-4b14-88af-034d7270d662')\"\n",
              "            title=\"Suggest charts\"\n",
              "            style=\"display:none;\">\n",
              "\n",
              "<svg xmlns=\"http://www.w3.org/2000/svg\" height=\"24px\"viewBox=\"0 0 24 24\"\n",
              "     width=\"24px\">\n",
              "    <g>\n",
              "        <path d=\"M19 3H5c-1.1 0-2 .9-2 2v14c0 1.1.9 2 2 2h14c1.1 0 2-.9 2-2V5c0-1.1-.9-2-2-2zM9 17H7v-7h2v7zm4 0h-2V7h2v10zm4 0h-2v-4h2v4z\"/>\n",
              "    </g>\n",
              "</svg>\n",
              "  </button>\n",
              "\n",
              "<style>\n",
              "  .colab-df-quickchart {\n",
              "      --bg-color: #E8F0FE;\n",
              "      --fill-color: #1967D2;\n",
              "      --hover-bg-color: #E2EBFA;\n",
              "      --hover-fill-color: #174EA6;\n",
              "      --disabled-fill-color: #AAA;\n",
              "      --disabled-bg-color: #DDD;\n",
              "  }\n",
              "\n",
              "  [theme=dark] .colab-df-quickchart {\n",
              "      --bg-color: #3B4455;\n",
              "      --fill-color: #D2E3FC;\n",
              "      --hover-bg-color: #434B5C;\n",
              "      --hover-fill-color: #FFFFFF;\n",
              "      --disabled-bg-color: #3B4455;\n",
              "      --disabled-fill-color: #666;\n",
              "  }\n",
              "\n",
              "  .colab-df-quickchart {\n",
              "    background-color: var(--bg-color);\n",
              "    border: none;\n",
              "    border-radius: 50%;\n",
              "    cursor: pointer;\n",
              "    display: none;\n",
              "    fill: var(--fill-color);\n",
              "    height: 32px;\n",
              "    padding: 0;\n",
              "    width: 32px;\n",
              "  }\n",
              "\n",
              "  .colab-df-quickchart:hover {\n",
              "    background-color: var(--hover-bg-color);\n",
              "    box-shadow: 0 1px 2px rgba(60, 64, 67, 0.3), 0 1px 3px 1px rgba(60, 64, 67, 0.15);\n",
              "    fill: var(--button-hover-fill-color);\n",
              "  }\n",
              "\n",
              "  .colab-df-quickchart-complete:disabled,\n",
              "  .colab-df-quickchart-complete:disabled:hover {\n",
              "    background-color: var(--disabled-bg-color);\n",
              "    fill: var(--disabled-fill-color);\n",
              "    box-shadow: none;\n",
              "  }\n",
              "\n",
              "  .colab-df-spinner {\n",
              "    border: 2px solid var(--fill-color);\n",
              "    border-color: transparent;\n",
              "    border-bottom-color: var(--fill-color);\n",
              "    animation:\n",
              "      spin 1s steps(1) infinite;\n",
              "  }\n",
              "\n",
              "  @keyframes spin {\n",
              "    0% {\n",
              "      border-color: transparent;\n",
              "      border-bottom-color: var(--fill-color);\n",
              "      border-left-color: var(--fill-color);\n",
              "    }\n",
              "    20% {\n",
              "      border-color: transparent;\n",
              "      border-left-color: var(--fill-color);\n",
              "      border-top-color: var(--fill-color);\n",
              "    }\n",
              "    30% {\n",
              "      border-color: transparent;\n",
              "      border-left-color: var(--fill-color);\n",
              "      border-top-color: var(--fill-color);\n",
              "      border-right-color: var(--fill-color);\n",
              "    }\n",
              "    40% {\n",
              "      border-color: transparent;\n",
              "      border-right-color: var(--fill-color);\n",
              "      border-top-color: var(--fill-color);\n",
              "    }\n",
              "    60% {\n",
              "      border-color: transparent;\n",
              "      border-right-color: var(--fill-color);\n",
              "    }\n",
              "    80% {\n",
              "      border-color: transparent;\n",
              "      border-right-color: var(--fill-color);\n",
              "      border-bottom-color: var(--fill-color);\n",
              "    }\n",
              "    90% {\n",
              "      border-color: transparent;\n",
              "      border-bottom-color: var(--fill-color);\n",
              "    }\n",
              "  }\n",
              "</style>\n",
              "\n",
              "  <script>\n",
              "    async function quickchart(key) {\n",
              "      const quickchartButtonEl =\n",
              "        document.querySelector('#' + key + ' button');\n",
              "      quickchartButtonEl.disabled = true;  // To prevent multiple clicks.\n",
              "      quickchartButtonEl.classList.add('colab-df-spinner');\n",
              "      try {\n",
              "        const charts = await google.colab.kernel.invokeFunction(\n",
              "            'suggestCharts', [key], {});\n",
              "      } catch (error) {\n",
              "        console.error('Error during call to suggestCharts:', error);\n",
              "      }\n",
              "      quickchartButtonEl.classList.remove('colab-df-spinner');\n",
              "      quickchartButtonEl.classList.add('colab-df-quickchart-complete');\n",
              "    }\n",
              "    (() => {\n",
              "      let quickchartButtonEl =\n",
              "        document.querySelector('#df-a64dae1d-328f-4b14-88af-034d7270d662 button');\n",
              "      quickchartButtonEl.style.display =\n",
              "        google.colab.kernel.accessAllowed ? 'block' : 'none';\n",
              "    })();\n",
              "  </script>\n",
              "</div>\n",
              "\n",
              "    </div>\n",
              "  </div>\n"
            ]
          },
          "metadata": {},
          "execution_count": 49
        }
      ]
    },
    {
      "cell_type": "code",
      "source": [
        "augmented_df.shape"
      ],
      "metadata": {
        "colab": {
          "base_uri": "https://localhost:8080/"
        },
        "id": "p7MNa6zhPw2Z",
        "outputId": "37416997-d1a7-4a3f-bedf-30d6c32683ea"
      },
      "execution_count": 50,
      "outputs": [
        {
          "output_type": "execute_result",
          "data": {
            "text/plain": [
              "(9041, 4)"
            ]
          },
          "metadata": {},
          "execution_count": 50
        }
      ]
    },
    {
      "cell_type": "code",
      "source": [
        "print(\"Total numbers in each class after augmentation: \")\n",
        "\n",
        "for cls in classes.values():\n",
        "  disease_training = os.path.join(training_folder, (cls + '_training'))\n",
        "  disease_augmented_training = os.path.join(augmented_training, (cls + '_augmented_training'))\n",
        "  total_training = len(os.listdir(disease_training)) + len(os.listdir(disease_augmented_training))\n",
        "  print(cls + \" training = \", total_training)\n",
        "\n",
        "  disease_testing = os.path.join(testing_folder, (cls + '_testing'))\n",
        "  disease_augmented_testing = os.path.join(augmented_testing, (cls + '_augmented_testing'))\n",
        "  total_testing = len(os.listdir(disease_testing)) + len(os.listdir(disease_augmented_testing))\n",
        "  print(cls + \"testing = \", total_testing)\n"
      ],
      "metadata": {
        "colab": {
          "base_uri": "https://localhost:8080/"
        },
        "id": "LuVbGFm-P33-",
        "outputId": "24a134de-74cd-4e60-e635-24e5e661c525"
      },
      "execution_count": 51,
      "outputs": [
        {
          "output_type": "stream",
          "name": "stdout",
          "text": [
            "Total numbers in each class after augmentation: \n",
            "Normal training =  2011\n",
            "Normaltesting =  862\n",
            "Diabetes training =  2011\n",
            "Diabetestesting =  862\n",
            "Glaucoma training =  2011\n",
            "Glaucomatesting =  862\n",
            "Cataract training =  2011\n",
            "Cataracttesting =  862\n",
            "Age related Macular Degeneration training =  2011\n",
            "Age related Macular Degenerationtesting =  862\n"
          ]
        }
      ]
    },
    {
      "cell_type": "markdown",
      "source": [
        "###Create a CSV file combining the original and augmented images"
      ],
      "metadata": {
        "id": "_KBXpFRk7Wq-"
      }
    },
    {
      "cell_type": "code",
      "source": [
        "# Combine the dataframes into a single dataframe containing the information of all images\n",
        "df = pd.concat([filtered_df, augmented_df], ignore_index=True)\n",
        "\n",
        "# Changing the ID column to avoid repetition\n",
        "df = df.drop('ID', axis=1)\n",
        "df = df.reset_index().rename(columns={'index': 'ID'})\n",
        "\n",
        "# Write the new DataFrame to a new CSV file\n",
        "new_csv_file_path = os.path.join(ODIR_path, '14k_data.csv')\n",
        "df.to_csv(new_csv_file_path, index=False)\n",
        "\n",
        "print(\"The new csv file has been created successfully.\")"
      ],
      "metadata": {
        "id": "i4de-yuBSjQq",
        "colab": {
          "base_uri": "https://localhost:8080/"
        },
        "outputId": "d296901f-633f-4a28-a0dd-ece4fe3e2e13"
      },
      "execution_count": 52,
      "outputs": [
        {
          "output_type": "stream",
          "name": "stdout",
          "text": [
            "The new csv file has been created successfully.\n"
          ]
        }
      ]
    },
    {
      "cell_type": "code",
      "source": [
        "df.head()"
      ],
      "metadata": {
        "colab": {
          "base_uri": "https://localhost:8080/",
          "height": 206
        },
        "id": "T9U50ewA7njU",
        "outputId": "06b16689-0d10-44f2-8d9f-9a3f378e3242"
      },
      "execution_count": 53,
      "outputs": [
        {
          "output_type": "execute_result",
          "data": {
            "text/plain": [
              "   ID     filename class_name           target\n",
              "0   0  0_right.jpg     Normal  [1, 0, 0, 0, 0]\n",
              "1   1  1_right.jpg     Normal  [1, 0, 0, 0, 0]\n",
              "2   2  2_right.jpg   Diabetes  [0, 1, 0, 0, 0]\n",
              "3   3  4_right.jpg   Diabetes  [0, 1, 0, 0, 0]\n",
              "4   4  5_right.jpg   Diabetes  [0, 1, 0, 0, 0]"
            ],
            "text/html": [
              "\n",
              "  <div id=\"df-994c2e07-6675-48a3-818a-0f3ca57fc02c\" class=\"colab-df-container\">\n",
              "    <div>\n",
              "<style scoped>\n",
              "    .dataframe tbody tr th:only-of-type {\n",
              "        vertical-align: middle;\n",
              "    }\n",
              "\n",
              "    .dataframe tbody tr th {\n",
              "        vertical-align: top;\n",
              "    }\n",
              "\n",
              "    .dataframe thead th {\n",
              "        text-align: right;\n",
              "    }\n",
              "</style>\n",
              "<table border=\"1\" class=\"dataframe\">\n",
              "  <thead>\n",
              "    <tr style=\"text-align: right;\">\n",
              "      <th></th>\n",
              "      <th>ID</th>\n",
              "      <th>filename</th>\n",
              "      <th>class_name</th>\n",
              "      <th>target</th>\n",
              "    </tr>\n",
              "  </thead>\n",
              "  <tbody>\n",
              "    <tr>\n",
              "      <th>0</th>\n",
              "      <td>0</td>\n",
              "      <td>0_right.jpg</td>\n",
              "      <td>Normal</td>\n",
              "      <td>[1, 0, 0, 0, 0]</td>\n",
              "    </tr>\n",
              "    <tr>\n",
              "      <th>1</th>\n",
              "      <td>1</td>\n",
              "      <td>1_right.jpg</td>\n",
              "      <td>Normal</td>\n",
              "      <td>[1, 0, 0, 0, 0]</td>\n",
              "    </tr>\n",
              "    <tr>\n",
              "      <th>2</th>\n",
              "      <td>2</td>\n",
              "      <td>2_right.jpg</td>\n",
              "      <td>Diabetes</td>\n",
              "      <td>[0, 1, 0, 0, 0]</td>\n",
              "    </tr>\n",
              "    <tr>\n",
              "      <th>3</th>\n",
              "      <td>3</td>\n",
              "      <td>4_right.jpg</td>\n",
              "      <td>Diabetes</td>\n",
              "      <td>[0, 1, 0, 0, 0]</td>\n",
              "    </tr>\n",
              "    <tr>\n",
              "      <th>4</th>\n",
              "      <td>4</td>\n",
              "      <td>5_right.jpg</td>\n",
              "      <td>Diabetes</td>\n",
              "      <td>[0, 1, 0, 0, 0]</td>\n",
              "    </tr>\n",
              "  </tbody>\n",
              "</table>\n",
              "</div>\n",
              "    <div class=\"colab-df-buttons\">\n",
              "\n",
              "  <div class=\"colab-df-container\">\n",
              "    <button class=\"colab-df-convert\" onclick=\"convertToInteractive('df-994c2e07-6675-48a3-818a-0f3ca57fc02c')\"\n",
              "            title=\"Convert this dataframe to an interactive table.\"\n",
              "            style=\"display:none;\">\n",
              "\n",
              "  <svg xmlns=\"http://www.w3.org/2000/svg\" height=\"24px\" viewBox=\"0 -960 960 960\">\n",
              "    <path d=\"M120-120v-720h720v720H120Zm60-500h600v-160H180v160Zm220 220h160v-160H400v160Zm0 220h160v-160H400v160ZM180-400h160v-160H180v160Zm440 0h160v-160H620v160ZM180-180h160v-160H180v160Zm440 0h160v-160H620v160Z\"/>\n",
              "  </svg>\n",
              "    </button>\n",
              "\n",
              "  <style>\n",
              "    .colab-df-container {\n",
              "      display:flex;\n",
              "      gap: 12px;\n",
              "    }\n",
              "\n",
              "    .colab-df-convert {\n",
              "      background-color: #E8F0FE;\n",
              "      border: none;\n",
              "      border-radius: 50%;\n",
              "      cursor: pointer;\n",
              "      display: none;\n",
              "      fill: #1967D2;\n",
              "      height: 32px;\n",
              "      padding: 0 0 0 0;\n",
              "      width: 32px;\n",
              "    }\n",
              "\n",
              "    .colab-df-convert:hover {\n",
              "      background-color: #E2EBFA;\n",
              "      box-shadow: 0px 1px 2px rgba(60, 64, 67, 0.3), 0px 1px 3px 1px rgba(60, 64, 67, 0.15);\n",
              "      fill: #174EA6;\n",
              "    }\n",
              "\n",
              "    .colab-df-buttons div {\n",
              "      margin-bottom: 4px;\n",
              "    }\n",
              "\n",
              "    [theme=dark] .colab-df-convert {\n",
              "      background-color: #3B4455;\n",
              "      fill: #D2E3FC;\n",
              "    }\n",
              "\n",
              "    [theme=dark] .colab-df-convert:hover {\n",
              "      background-color: #434B5C;\n",
              "      box-shadow: 0px 1px 3px 1px rgba(0, 0, 0, 0.15);\n",
              "      filter: drop-shadow(0px 1px 2px rgba(0, 0, 0, 0.3));\n",
              "      fill: #FFFFFF;\n",
              "    }\n",
              "  </style>\n",
              "\n",
              "    <script>\n",
              "      const buttonEl =\n",
              "        document.querySelector('#df-994c2e07-6675-48a3-818a-0f3ca57fc02c button.colab-df-convert');\n",
              "      buttonEl.style.display =\n",
              "        google.colab.kernel.accessAllowed ? 'block' : 'none';\n",
              "\n",
              "      async function convertToInteractive(key) {\n",
              "        const element = document.querySelector('#df-994c2e07-6675-48a3-818a-0f3ca57fc02c');\n",
              "        const dataTable =\n",
              "          await google.colab.kernel.invokeFunction('convertToInteractive',\n",
              "                                                    [key], {});\n",
              "        if (!dataTable) return;\n",
              "\n",
              "        const docLinkHtml = 'Like what you see? Visit the ' +\n",
              "          '<a target=\"_blank\" href=https://colab.research.google.com/notebooks/data_table.ipynb>data table notebook</a>'\n",
              "          + ' to learn more about interactive tables.';\n",
              "        element.innerHTML = '';\n",
              "        dataTable['output_type'] = 'display_data';\n",
              "        await google.colab.output.renderOutput(dataTable, element);\n",
              "        const docLink = document.createElement('div');\n",
              "        docLink.innerHTML = docLinkHtml;\n",
              "        element.appendChild(docLink);\n",
              "      }\n",
              "    </script>\n",
              "  </div>\n",
              "\n",
              "\n",
              "<div id=\"df-e630dc25-ee7b-4ad4-ad06-fa26d7a93fbf\">\n",
              "  <button class=\"colab-df-quickchart\" onclick=\"quickchart('df-e630dc25-ee7b-4ad4-ad06-fa26d7a93fbf')\"\n",
              "            title=\"Suggest charts\"\n",
              "            style=\"display:none;\">\n",
              "\n",
              "<svg xmlns=\"http://www.w3.org/2000/svg\" height=\"24px\"viewBox=\"0 0 24 24\"\n",
              "     width=\"24px\">\n",
              "    <g>\n",
              "        <path d=\"M19 3H5c-1.1 0-2 .9-2 2v14c0 1.1.9 2 2 2h14c1.1 0 2-.9 2-2V5c0-1.1-.9-2-2-2zM9 17H7v-7h2v7zm4 0h-2V7h2v10zm4 0h-2v-4h2v4z\"/>\n",
              "    </g>\n",
              "</svg>\n",
              "  </button>\n",
              "\n",
              "<style>\n",
              "  .colab-df-quickchart {\n",
              "      --bg-color: #E8F0FE;\n",
              "      --fill-color: #1967D2;\n",
              "      --hover-bg-color: #E2EBFA;\n",
              "      --hover-fill-color: #174EA6;\n",
              "      --disabled-fill-color: #AAA;\n",
              "      --disabled-bg-color: #DDD;\n",
              "  }\n",
              "\n",
              "  [theme=dark] .colab-df-quickchart {\n",
              "      --bg-color: #3B4455;\n",
              "      --fill-color: #D2E3FC;\n",
              "      --hover-bg-color: #434B5C;\n",
              "      --hover-fill-color: #FFFFFF;\n",
              "      --disabled-bg-color: #3B4455;\n",
              "      --disabled-fill-color: #666;\n",
              "  }\n",
              "\n",
              "  .colab-df-quickchart {\n",
              "    background-color: var(--bg-color);\n",
              "    border: none;\n",
              "    border-radius: 50%;\n",
              "    cursor: pointer;\n",
              "    display: none;\n",
              "    fill: var(--fill-color);\n",
              "    height: 32px;\n",
              "    padding: 0;\n",
              "    width: 32px;\n",
              "  }\n",
              "\n",
              "  .colab-df-quickchart:hover {\n",
              "    background-color: var(--hover-bg-color);\n",
              "    box-shadow: 0 1px 2px rgba(60, 64, 67, 0.3), 0 1px 3px 1px rgba(60, 64, 67, 0.15);\n",
              "    fill: var(--button-hover-fill-color);\n",
              "  }\n",
              "\n",
              "  .colab-df-quickchart-complete:disabled,\n",
              "  .colab-df-quickchart-complete:disabled:hover {\n",
              "    background-color: var(--disabled-bg-color);\n",
              "    fill: var(--disabled-fill-color);\n",
              "    box-shadow: none;\n",
              "  }\n",
              "\n",
              "  .colab-df-spinner {\n",
              "    border: 2px solid var(--fill-color);\n",
              "    border-color: transparent;\n",
              "    border-bottom-color: var(--fill-color);\n",
              "    animation:\n",
              "      spin 1s steps(1) infinite;\n",
              "  }\n",
              "\n",
              "  @keyframes spin {\n",
              "    0% {\n",
              "      border-color: transparent;\n",
              "      border-bottom-color: var(--fill-color);\n",
              "      border-left-color: var(--fill-color);\n",
              "    }\n",
              "    20% {\n",
              "      border-color: transparent;\n",
              "      border-left-color: var(--fill-color);\n",
              "      border-top-color: var(--fill-color);\n",
              "    }\n",
              "    30% {\n",
              "      border-color: transparent;\n",
              "      border-left-color: var(--fill-color);\n",
              "      border-top-color: var(--fill-color);\n",
              "      border-right-color: var(--fill-color);\n",
              "    }\n",
              "    40% {\n",
              "      border-color: transparent;\n",
              "      border-right-color: var(--fill-color);\n",
              "      border-top-color: var(--fill-color);\n",
              "    }\n",
              "    60% {\n",
              "      border-color: transparent;\n",
              "      border-right-color: var(--fill-color);\n",
              "    }\n",
              "    80% {\n",
              "      border-color: transparent;\n",
              "      border-right-color: var(--fill-color);\n",
              "      border-bottom-color: var(--fill-color);\n",
              "    }\n",
              "    90% {\n",
              "      border-color: transparent;\n",
              "      border-bottom-color: var(--fill-color);\n",
              "    }\n",
              "  }\n",
              "</style>\n",
              "\n",
              "  <script>\n",
              "    async function quickchart(key) {\n",
              "      const quickchartButtonEl =\n",
              "        document.querySelector('#' + key + ' button');\n",
              "      quickchartButtonEl.disabled = true;  // To prevent multiple clicks.\n",
              "      quickchartButtonEl.classList.add('colab-df-spinner');\n",
              "      try {\n",
              "        const charts = await google.colab.kernel.invokeFunction(\n",
              "            'suggestCharts', [key], {});\n",
              "      } catch (error) {\n",
              "        console.error('Error during call to suggestCharts:', error);\n",
              "      }\n",
              "      quickchartButtonEl.classList.remove('colab-df-spinner');\n",
              "      quickchartButtonEl.classList.add('colab-df-quickchart-complete');\n",
              "    }\n",
              "    (() => {\n",
              "      let quickchartButtonEl =\n",
              "        document.querySelector('#df-e630dc25-ee7b-4ad4-ad06-fa26d7a93fbf button');\n",
              "      quickchartButtonEl.style.display =\n",
              "        google.colab.kernel.accessAllowed ? 'block' : 'none';\n",
              "    })();\n",
              "  </script>\n",
              "</div>\n",
              "\n",
              "    </div>\n",
              "  </div>\n"
            ]
          },
          "metadata": {},
          "execution_count": 53
        }
      ]
    },
    {
      "cell_type": "code",
      "source": [],
      "metadata": {
        "id": "3nucX57b7o5-"
      },
      "execution_count": null,
      "outputs": []
    }
  ]
}